{
 "cells": [
  {
   "cell_type": "code",
   "execution_count": 1,
   "id": "2c293981-1c35-49e8-87e5-277e3b76b337",
   "metadata": {},
   "outputs": [
    {
     "name": "stdout",
     "output_type": "stream",
     "text": [
      "WARNING:tensorflow:From C:\\Users\\avish\\AppData\\Local\\Programs\\Python\\Python311\\Lib\\site-packages\\keras\\src\\losses.py:2976: The name tf.losses.sparse_softmax_cross_entropy is deprecated. Please use tf.compat.v1.losses.sparse_softmax_cross_entropy instead.\n",
      "\n"
     ]
    }
   ],
   "source": [
    "import pandas as pd\n",
    "import numpy as np\n",
    "import matplotlib.pyplot as plt\n",
    "from keras.models import Sequential\n",
    "from keras.layers import Dense\n",
    "from keras.layers import LSTM\n",
    "from sklearn.preprocessing import MinMaxScaler\n",
    "from sklearn.metrics import mean_squared_error\n",
    "plt.style.use('fivethirtyeight')"
   ]
  },
  {
   "cell_type": "code",
   "execution_count": 2,
   "id": "9351cb23-f9c2-4dd3-be3d-64ba531b8412",
   "metadata": {},
   "outputs": [
    {
     "data": {
      "text/html": [
       "<div>\n",
       "<style scoped>\n",
       "    .dataframe tbody tr th:only-of-type {\n",
       "        vertical-align: middle;\n",
       "    }\n",
       "\n",
       "    .dataframe tbody tr th {\n",
       "        vertical-align: top;\n",
       "    }\n",
       "\n",
       "    .dataframe thead th {\n",
       "        text-align: right;\n",
       "    }\n",
       "</style>\n",
       "<table border=\"1\" class=\"dataframe\">\n",
       "  <thead>\n",
       "    <tr style=\"text-align: right;\">\n",
       "      <th></th>\n",
       "      <th>Date</th>\n",
       "      <th>Open</th>\n",
       "      <th>High</th>\n",
       "      <th>Low</th>\n",
       "      <th>Close</th>\n",
       "      <th>Adj Close</th>\n",
       "      <th>Volume</th>\n",
       "    </tr>\n",
       "  </thead>\n",
       "  <tbody>\n",
       "    <tr>\n",
       "      <th>0</th>\n",
       "      <td>2004-08-27</td>\n",
       "      <td>122.800003</td>\n",
       "      <td>122.800003</td>\n",
       "      <td>119.820000</td>\n",
       "      <td>120.332497</td>\n",
       "      <td>88.088272</td>\n",
       "      <td>30646000.0</td>\n",
       "    </tr>\n",
       "    <tr>\n",
       "      <th>1</th>\n",
       "      <td>2004-08-30</td>\n",
       "      <td>121.237503</td>\n",
       "      <td>123.750000</td>\n",
       "      <td>120.625000</td>\n",
       "      <td>123.345001</td>\n",
       "      <td>90.293549</td>\n",
       "      <td>24465208.0</td>\n",
       "    </tr>\n",
       "    <tr>\n",
       "      <th>2</th>\n",
       "      <td>2004-08-31</td>\n",
       "      <td>123.312500</td>\n",
       "      <td>123.750000</td>\n",
       "      <td>122.000000</td>\n",
       "      <td>123.512497</td>\n",
       "      <td>90.416122</td>\n",
       "      <td>21194656.0</td>\n",
       "    </tr>\n",
       "    <tr>\n",
       "      <th>3</th>\n",
       "      <td>2004-09-01</td>\n",
       "      <td>123.750000</td>\n",
       "      <td>124.375000</td>\n",
       "      <td>122.949997</td>\n",
       "      <td>123.487503</td>\n",
       "      <td>90.397820</td>\n",
       "      <td>19935544.0</td>\n",
       "    </tr>\n",
       "    <tr>\n",
       "      <th>4</th>\n",
       "      <td>2004-09-02</td>\n",
       "      <td>123.737503</td>\n",
       "      <td>125.574997</td>\n",
       "      <td>123.250000</td>\n",
       "      <td>124.207497</td>\n",
       "      <td>90.924896</td>\n",
       "      <td>21356352.0</td>\n",
       "    </tr>\n",
       "    <tr>\n",
       "      <th>...</th>\n",
       "      <td>...</td>\n",
       "      <td>...</td>\n",
       "      <td>...</td>\n",
       "      <td>...</td>\n",
       "      <td>...</td>\n",
       "      <td>...</td>\n",
       "      <td>...</td>\n",
       "    </tr>\n",
       "    <tr>\n",
       "      <th>4489</th>\n",
       "      <td>2022-10-18</td>\n",
       "      <td>3150.000000</td>\n",
       "      <td>3155.350098</td>\n",
       "      <td>3128.550049</td>\n",
       "      <td>3144.699951</td>\n",
       "      <td>3144.699951</td>\n",
       "      <td>1793722.0</td>\n",
       "    </tr>\n",
       "    <tr>\n",
       "      <th>4490</th>\n",
       "      <td>2022-10-19</td>\n",
       "      <td>3159.000000</td>\n",
       "      <td>3159.000000</td>\n",
       "      <td>3112.000000</td>\n",
       "      <td>3121.850098</td>\n",
       "      <td>3121.850098</td>\n",
       "      <td>1194289.0</td>\n",
       "    </tr>\n",
       "    <tr>\n",
       "      <th>4491</th>\n",
       "      <td>2022-10-20</td>\n",
       "      <td>3105.000000</td>\n",
       "      <td>3160.000000</td>\n",
       "      <td>3105.000000</td>\n",
       "      <td>3157.300049</td>\n",
       "      <td>3157.300049</td>\n",
       "      <td>1587601.0</td>\n",
       "    </tr>\n",
       "    <tr>\n",
       "      <th>4492</th>\n",
       "      <td>2022-10-21</td>\n",
       "      <td>3157.800049</td>\n",
       "      <td>3160.399902</td>\n",
       "      <td>3127.000000</td>\n",
       "      <td>3137.399902</td>\n",
       "      <td>3137.399902</td>\n",
       "      <td>1021913.0</td>\n",
       "    </tr>\n",
       "    <tr>\n",
       "      <th>4493</th>\n",
       "      <td>2022-10-24</td>\n",
       "      <td>3170.100098</td>\n",
       "      <td>3178.000000</td>\n",
       "      <td>3155.000000</td>\n",
       "      <td>3161.699951</td>\n",
       "      <td>3161.699951</td>\n",
       "      <td>260949.0</td>\n",
       "    </tr>\n",
       "  </tbody>\n",
       "</table>\n",
       "<p>4494 rows × 7 columns</p>\n",
       "</div>"
      ],
      "text/plain": [
       "            Date         Open         High          Low        Close  \\\n",
       "0     2004-08-27   122.800003   122.800003   119.820000   120.332497   \n",
       "1     2004-08-30   121.237503   123.750000   120.625000   123.345001   \n",
       "2     2004-08-31   123.312500   123.750000   122.000000   123.512497   \n",
       "3     2004-09-01   123.750000   124.375000   122.949997   123.487503   \n",
       "4     2004-09-02   123.737503   125.574997   123.250000   124.207497   \n",
       "...          ...          ...          ...          ...          ...   \n",
       "4489  2022-10-18  3150.000000  3155.350098  3128.550049  3144.699951   \n",
       "4490  2022-10-19  3159.000000  3159.000000  3112.000000  3121.850098   \n",
       "4491  2022-10-20  3105.000000  3160.000000  3105.000000  3157.300049   \n",
       "4492  2022-10-21  3157.800049  3160.399902  3127.000000  3137.399902   \n",
       "4493  2022-10-24  3170.100098  3178.000000  3155.000000  3161.699951   \n",
       "\n",
       "        Adj Close      Volume  \n",
       "0       88.088272  30646000.0  \n",
       "1       90.293549  24465208.0  \n",
       "2       90.416122  21194656.0  \n",
       "3       90.397820  19935544.0  \n",
       "4       90.924896  21356352.0  \n",
       "...           ...         ...  \n",
       "4489  3144.699951   1793722.0  \n",
       "4490  3121.850098   1194289.0  \n",
       "4491  3157.300049   1587601.0  \n",
       "4492  3137.399902   1021913.0  \n",
       "4493  3161.699951    260949.0  \n",
       "\n",
       "[4494 rows x 7 columns]"
      ]
     },
     "execution_count": 2,
     "metadata": {},
     "output_type": "execute_result"
    }
   ],
   "source": [
    "df = pd.read_csv('TCS.CSV')\n",
    "df "
   ]
  },
  {
   "cell_type": "code",
   "execution_count": 3,
   "id": "34dd3ee4-d61c-4329-8f62-c116e72c1857",
   "metadata": {},
   "outputs": [
    {
     "data": {
      "text/html": [
       "<div>\n",
       "<style scoped>\n",
       "    .dataframe tbody tr th:only-of-type {\n",
       "        vertical-align: middle;\n",
       "    }\n",
       "\n",
       "    .dataframe tbody tr th {\n",
       "        vertical-align: top;\n",
       "    }\n",
       "\n",
       "    .dataframe thead th {\n",
       "        text-align: right;\n",
       "    }\n",
       "</style>\n",
       "<table border=\"1\" class=\"dataframe\">\n",
       "  <thead>\n",
       "    <tr style=\"text-align: right;\">\n",
       "      <th></th>\n",
       "      <th>Date</th>\n",
       "      <th>Open</th>\n",
       "      <th>High</th>\n",
       "      <th>Low</th>\n",
       "      <th>Close</th>\n",
       "      <th>Adj Close</th>\n",
       "      <th>Volume</th>\n",
       "    </tr>\n",
       "  </thead>\n",
       "  <tbody>\n",
       "    <tr>\n",
       "      <th>0</th>\n",
       "      <td>2012-01-02</td>\n",
       "      <td>122.800003</td>\n",
       "      <td>123.750000</td>\n",
       "      <td>111.000000</td>\n",
       "      <td>114.699997</td>\n",
       "      <td>107.949486</td>\n",
       "      <td>1572363.0</td>\n",
       "    </tr>\n",
       "    <tr>\n",
       "      <th>1</th>\n",
       "      <td>2012-01-03</td>\n",
       "      <td>117.500000</td>\n",
       "      <td>120.900002</td>\n",
       "      <td>115.000000</td>\n",
       "      <td>120.300003</td>\n",
       "      <td>113.219917</td>\n",
       "      <td>1385662.0</td>\n",
       "    </tr>\n",
       "    <tr>\n",
       "      <th>2</th>\n",
       "      <td>2012-01-04</td>\n",
       "      <td>121.000000</td>\n",
       "      <td>123.500000</td>\n",
       "      <td>118.000000</td>\n",
       "      <td>122.849998</td>\n",
       "      <td>115.619843</td>\n",
       "      <td>1259249.0</td>\n",
       "    </tr>\n",
       "    <tr>\n",
       "      <th>3</th>\n",
       "      <td>2012-01-05</td>\n",
       "      <td>122.000000</td>\n",
       "      <td>127.599998</td>\n",
       "      <td>121.300003</td>\n",
       "      <td>126.699997</td>\n",
       "      <td>119.243248</td>\n",
       "      <td>788405.0</td>\n",
       "    </tr>\n",
       "    <tr>\n",
       "      <th>4</th>\n",
       "      <td>2012-01-06</td>\n",
       "      <td>126.250000</td>\n",
       "      <td>128.750000</td>\n",
       "      <td>124.300003</td>\n",
       "      <td>127.699997</td>\n",
       "      <td>120.184387</td>\n",
       "      <td>1036623.0</td>\n",
       "    </tr>\n",
       "    <tr>\n",
       "      <th>...</th>\n",
       "      <td>...</td>\n",
       "      <td>...</td>\n",
       "      <td>...</td>\n",
       "      <td>...</td>\n",
       "      <td>...</td>\n",
       "      <td>...</td>\n",
       "      <td>...</td>\n",
       "    </tr>\n",
       "    <tr>\n",
       "      <th>2466</th>\n",
       "      <td>2021-12-27</td>\n",
       "      <td>717.000000</td>\n",
       "      <td>726.400024</td>\n",
       "      <td>713.000000</td>\n",
       "      <td>723.200012</td>\n",
       "      <td>718.224426</td>\n",
       "      <td>2663285.0</td>\n",
       "    </tr>\n",
       "    <tr>\n",
       "      <th>2467</th>\n",
       "      <td>2021-12-28</td>\n",
       "      <td>727.099976</td>\n",
       "      <td>738.900024</td>\n",
       "      <td>725.200012</td>\n",
       "      <td>729.250000</td>\n",
       "      <td>724.232788</td>\n",
       "      <td>3604123.0</td>\n",
       "    </tr>\n",
       "    <tr>\n",
       "      <th>2468</th>\n",
       "      <td>2021-12-29</td>\n",
       "      <td>729.000000</td>\n",
       "      <td>734.200012</td>\n",
       "      <td>720.099976</td>\n",
       "      <td>722.750000</td>\n",
       "      <td>717.777527</td>\n",
       "      <td>2396416.0</td>\n",
       "    </tr>\n",
       "    <tr>\n",
       "      <th>2469</th>\n",
       "      <td>2021-12-30</td>\n",
       "      <td>722.900024</td>\n",
       "      <td>726.000000</td>\n",
       "      <td>716.450012</td>\n",
       "      <td>724.250000</td>\n",
       "      <td>719.267212</td>\n",
       "      <td>3654532.0</td>\n",
       "    </tr>\n",
       "    <tr>\n",
       "      <th>2470</th>\n",
       "      <td>2021-12-31</td>\n",
       "      <td>725.000000</td>\n",
       "      <td>735.000000</td>\n",
       "      <td>725.000000</td>\n",
       "      <td>730.299988</td>\n",
       "      <td>725.275574</td>\n",
       "      <td>2538092.0</td>\n",
       "    </tr>\n",
       "  </tbody>\n",
       "</table>\n",
       "<p>2471 rows × 7 columns</p>\n",
       "</div>"
      ],
      "text/plain": [
       "            Date        Open        High         Low       Close   Adj Close  \\\n",
       "0     2012-01-02  122.800003  123.750000  111.000000  114.699997  107.949486   \n",
       "1     2012-01-03  117.500000  120.900002  115.000000  120.300003  113.219917   \n",
       "2     2012-01-04  121.000000  123.500000  118.000000  122.849998  115.619843   \n",
       "3     2012-01-05  122.000000  127.599998  121.300003  126.699997  119.243248   \n",
       "4     2012-01-06  126.250000  128.750000  124.300003  127.699997  120.184387   \n",
       "...          ...         ...         ...         ...         ...         ...   \n",
       "2466  2021-12-27  717.000000  726.400024  713.000000  723.200012  718.224426   \n",
       "2467  2021-12-28  727.099976  738.900024  725.200012  729.250000  724.232788   \n",
       "2468  2021-12-29  729.000000  734.200012  720.099976  722.750000  717.777527   \n",
       "2469  2021-12-30  722.900024  726.000000  716.450012  724.250000  719.267212   \n",
       "2470  2021-12-31  725.000000  735.000000  725.000000  730.299988  725.275574   \n",
       "\n",
       "         Volume  \n",
       "0     1572363.0  \n",
       "1     1385662.0  \n",
       "2     1259249.0  \n",
       "3      788405.0  \n",
       "4     1036623.0  \n",
       "...         ...  \n",
       "2466  2663285.0  \n",
       "2467  3604123.0  \n",
       "2468  2396416.0  \n",
       "2469  3654532.0  \n",
       "2470  2538092.0  \n",
       "\n",
       "[2471 rows x 7 columns]"
      ]
     },
     "execution_count": 3,
     "metadata": {},
     "output_type": "execute_result"
    }
   ],
   "source": [
    "df = pd.read_csv('ADANIPORTS.NS.CSV')\n",
    "df"
   ]
  },
  {
   "cell_type": "code",
   "execution_count": 4,
   "id": "921adb04-90a3-4147-84a0-e0e6f8296b47",
   "metadata": {},
   "outputs": [
    {
     "name": "stdout",
     "output_type": "stream",
     "text": [
      "<class 'pandas.core.frame.DataFrame'>\n",
      "RangeIndex: 2471 entries, 0 to 2470\n",
      "Data columns (total 7 columns):\n",
      " #   Column     Non-Null Count  Dtype  \n",
      "---  ------     --------------  -----  \n",
      " 0   Date       2471 non-null   object \n",
      " 1   Open       2465 non-null   float64\n",
      " 2   High       2465 non-null   float64\n",
      " 3   Low        2465 non-null   float64\n",
      " 4   Close      2465 non-null   float64\n",
      " 5   Adj Close  2465 non-null   float64\n",
      " 6   Volume     2465 non-null   float64\n",
      "dtypes: float64(6), object(1)\n",
      "memory usage: 135.3+ KB\n"
     ]
    }
   ],
   "source": [
    "df.info()"
   ]
  },
  {
   "cell_type": "code",
   "execution_count": 5,
   "id": "5e553cc4-0649-46ca-855b-ed8b052ee99d",
   "metadata": {},
   "outputs": [],
   "source": [
    "df['Close'] = df['Close'].fillna(df['Close'].mean())"
   ]
  },
  {
   "cell_type": "code",
   "execution_count": 6,
   "id": "8b969432-30df-47eb-a083-93d8356ba3a4",
   "metadata": {},
   "outputs": [
    {
     "data": {
      "text/plain": [
       "(2471, 7)"
      ]
     },
     "execution_count": 6,
     "metadata": {},
     "output_type": "execute_result"
    }
   ],
   "source": [
    "df.shape"
   ]
  },
  {
   "cell_type": "code",
   "execution_count": 7,
   "id": "77036c72-bfbe-4f01-9d4a-28cba70b61c4",
   "metadata": {},
   "outputs": [],
   "source": [
    "# df = df.drop(['Date'],axis=1)\n",
    "# df1=df.reset_index()['Close']\n",
    "import datetime\n",
    "df['Date'] = pd.to_datetime(df['Date'])"
   ]
  },
  {
   "cell_type": "code",
   "execution_count": 8,
   "id": "a04b7404-16f3-4908-8dc0-533bad2ecaf6",
   "metadata": {},
   "outputs": [
    {
     "name": "stdout",
     "output_type": "stream",
     "text": [
      "<class 'pandas.core.frame.DataFrame'>\n",
      "RangeIndex: 2471 entries, 0 to 2470\n",
      "Data columns (total 7 columns):\n",
      " #   Column     Non-Null Count  Dtype         \n",
      "---  ------     --------------  -----         \n",
      " 0   Date       2471 non-null   datetime64[ns]\n",
      " 1   Open       2465 non-null   float64       \n",
      " 2   High       2465 non-null   float64       \n",
      " 3   Low        2465 non-null   float64       \n",
      " 4   Close      2471 non-null   float64       \n",
      " 5   Adj Close  2465 non-null   float64       \n",
      " 6   Volume     2465 non-null   float64       \n",
      "dtypes: datetime64[ns](1), float64(6)\n",
      "memory usage: 135.3 KB\n"
     ]
    }
   ],
   "source": [
    "df.info()"
   ]
  },
  {
   "cell_type": "code",
   "execution_count": 9,
   "id": "2d277143-553b-4ffd-907f-cedc8bb21997",
   "metadata": {},
   "outputs": [
    {
     "data": {
      "image/png": "[encoded data removed]",
      "text/plain": [
       "<Figure size 1200x800 with 1 Axes>"
      ]
     },
     "metadata": {},
     "output_type": "display_data"
    }
   ],
   "source": [
    "plt.figure(figsize=(12,8))\n",
    "plt.plot(df['Close'])\n",
    "plt.show()"
   ]
  },
  {
   "cell_type": "code",
   "execution_count": 10,
   "id": "2e71057e-1786-43d4-a313-4f02d012d678",
   "metadata": {},
   "outputs": [
    {
     "data": {
      "text/plain": [
       "numpy.ndarray"
      ]
     },
     "execution_count": 10,
     "metadata": {},
     "output_type": "execute_result"
    }
   ],
   "source": [
    "data = pd.DataFrame(df['Close'])\n",
    "data_set = data.values\n",
    "type(data_set)"
   ]
  },
  {
   "cell_type": "code",
   "execution_count": 11,
   "id": "bdcc050b-842a-484f-8979-1ecac4b8366e",
   "metadata": {},
   "outputs": [
    {
     "data": {
      "text/plain": [
       "array([[114.699997],\n",
       "       [120.300003],\n",
       "       [122.849998],\n",
       "       ...,\n",
       "       [722.75    ],\n",
       "       [724.25    ],\n",
       "       [730.299988]])"
      ]
     },
     "execution_count": 11,
     "metadata": {},
     "output_type": "execute_result"
    }
   ],
   "source": [
    "data_set"
   ]
  },
  {
   "cell_type": "code",
   "execution_count": 12,
   "id": "15464e56-7c4a-4280-bda1-1328cd6746f0",
   "metadata": {},
   "outputs": [
    {
     "data": {
      "text/plain": [
       "1976"
      ]
     },
     "execution_count": 12,
     "metadata": {},
     "output_type": "execute_result"
    }
   ],
   "source": [
    "train_size = int(len(data_set) * 0.80)    #training_data_len\n",
    "train_size"
   ]
  },
  {
   "cell_type": "code",
   "execution_count": 13,
   "id": "d1cf4fb9-6b76-42ee-8600-e08ba4fe5bdc",
   "metadata": {},
   "outputs": [
    {
     "data": {
      "text/plain": [
       "array([[0.00869452],\n",
       "       [0.01596159],\n",
       "       [0.0192707 ],\n",
       "       ...,\n",
       "       [0.79775502],\n",
       "       [0.79970156],\n",
       "       [0.80755257]])"
      ]
     },
     "execution_count": 13,
     "metadata": {},
     "output_type": "execute_result"
    }
   ],
   "source": [
    "# Scalling using MinMax Scaler\n",
    "scaler = MinMaxScaler(feature_range=(0,1))\n",
    "scaleddata = scaler.fit_transform(data_set)\n",
    "scaleddata"
   ]
  },
  {
   "cell_type": "code",
   "execution_count": 14,
   "id": "fd6cef84-ff53-4637-bb51-567712be24ea",
   "metadata": {},
   "outputs": [
    {
     "data": {
      "text/plain": [
       "(1976, 1)"
      ]
     },
     "execution_count": 14,
     "metadata": {},
     "output_type": "execute_result"
    }
   ],
   "source": [
    "# Training Dataset\n",
    "train_data = scaleddata[:train_size, :]\n",
    "train_data.shape"
   ]
  },
  {
   "cell_type": "code",
   "execution_count": 15,
   "id": "184832b1-ba7b-4165-ae5d-83be71fde02a",
   "metadata": {},
   "outputs": [],
   "source": [
    "# Splitting x_train and y_train\n",
    "x_train = []    #independent Variable ---> contains past 100 days value\n",
    "y_train = []    #dependent Variable (Target)\n",
    "\n",
    "for i in range(100,len(train_data)):\n",
    "  x_train.append(train_data[i-100:i,0])\n",
    "  y_train.append(train_data[i,0])"
   ]
  },
  {
   "cell_type": "code",
   "execution_count": 16,
   "id": "5ab3c98e-79eb-4df3-a2da-a9120b5068b5",
   "metadata": {},
   "outputs": [],
   "source": [
    "# Converting the x_train from list to numpy array to train the lstm model\n",
    "\n",
    "x_train,y_train = np.array(x_train),np.array(y_train)"
   ]
  },
  {
   "cell_type": "code",
   "execution_count": 17,
   "id": "258fc257-db5b-4a2a-b54e-d52f540a253e",
   "metadata": {},
   "outputs": [
    {
     "data": {
      "text/plain": [
       "(1876, 100, 1)"
      ]
     },
     "execution_count": 17,
     "metadata": {},
     "output_type": "execute_result"
    }
   ],
   "source": [
    "# Converting it to 3-D dataset as per lstm requirment\n",
    "x_train = np.reshape(x_train,(x_train.shape[0] ,x_train.shape[1], 1))\n",
    "x_train.shape"
   ]
  },
  {
   "cell_type": "code",
   "execution_count": 18,
   "id": "226db3e1-2ffd-4127-82f1-f2d35f4e3409",
   "metadata": {},
   "outputs": [
    {
     "data": {
      "text/plain": [
       "((1876,), (1876, 100, 1))"
      ]
     },
     "execution_count": 18,
     "metadata": {},
     "output_type": "execute_result"
    }
   ],
   "source": [
    "y_train.shape,x_train.shape"
   ]
  },
  {
   "cell_type": "code",
   "execution_count": 19,
   "id": "82cc6269-8bc6-47f4-b0a5-03b12bee2ae4",
   "metadata": {},
   "outputs": [],
   "source": [
    "test_data = scaleddata[train_size-100: , :]\n",
    "x_test = []                           # past 100 days value\n",
    "y_test = data_set[train_size:, :]     # all of the value that the model should predict {actual values 61th value}\n",
    "\n",
    "for i in range(100,len(test_data)):\n",
    "  x_test.append(test_data[i-100:i, 0])"
   ]
  },
  {
   "cell_type": "code",
   "execution_count": 20,
   "id": "917ae56f-ac01-4220-8994-094fcf22869e",
   "metadata": {},
   "outputs": [],
   "source": [
    "# Scalling of test data\n",
    "x_test = np.array(x_test)"
   ]
  },
  {
   "cell_type": "code",
   "execution_count": 21,
   "id": "0d0dfc36-2510-4e8e-abc2-ffb5b98c148e",
   "metadata": {},
   "outputs": [],
   "source": [
    "# Reshape the data to 3-D for LSTM\n",
    "x_test = np.reshape(x_test,(x_test.shape[0],x_test.shape[1], 1))"
   ]
  },
  {
   "cell_type": "code",
   "execution_count": 22,
   "id": "c59ed094-3cac-45e0-9f65-c7f250720956",
   "metadata": {},
   "outputs": [
    {
     "name": "stdout",
     "output_type": "stream",
     "text": [
      "WARNING:tensorflow:From C:\\Users\\avish\\AppData\\Local\\Programs\\Python\\Python311\\Lib\\site-packages\\keras\\src\\backend.py:873: The name tf.get_default_graph is deprecated. Please use tf.compat.v1.get_default_graph instead.\n",
      "\n"
     ]
    }
   ],
   "source": [
    "# LSTM Model\n",
    "model = Sequential()\n",
    "model.add (LSTM(50,return_sequences=True,activation='relu',input_shape=(x_train.shape[1],1)))\n",
    "model.add(LSTM(50,return_sequences = False))\n",
    "model.add(Dense(50))     #Connect at layer\n",
    "model.add(Dense(1))  "
   ]
  },
  {
   "cell_type": "code",
   "execution_count": 23,
   "id": "e50fcd97-fa46-4836-b7e0-f59f03c0fe20",
   "metadata": {},
   "outputs": [
    {
     "name": "stdout",
     "output_type": "stream",
     "text": [
      "WARNING:tensorflow:From C:\\Users\\avish\\AppData\\Local\\Programs\\Python\\Python311\\Lib\\site-packages\\keras\\src\\optimizers\\__init__.py:309: The name tf.train.Optimizer is deprecated. Please use tf.compat.v1.train.Optimizer instead.\n",
      "\n"
     ]
    }
   ],
   "source": [
    "model.compile(optimizer='adam',loss = 'mean_squared_error')"
   ]
  },
  {
   "cell_type": "code",
   "execution_count": 24,
   "id": "b55d4647-01b2-4521-b668-29ef2651e295",
   "metadata": {},
   "outputs": [
    {
     "name": "stdout",
     "output_type": "stream",
     "text": [
      "Model: \"sequential\"\n",
      "_________________________________________________________________\n",
      " Layer (type)                Output Shape              Param #   \n",
      "=================================================================\n",
      " lstm (LSTM)                 (None, 100, 50)           10400     \n",
      "                                                                 \n",
      " lstm_1 (LSTM)               (None, 50)                20200     \n",
      "                                                                 \n",
      " dense (Dense)               (None, 50)                2550      \n",
      "                                                                 \n",
      " dense_1 (Dense)             (None, 1)                 51        \n",
      "                                                                 \n",
      "=================================================================\n",
      "Total params: 33201 (129.69 KB)\n",
      "Trainable params: 33201 (129.69 KB)\n",
      "Non-trainable params: 0 (0.00 Byte)\n",
      "_________________________________________________________________\n"
     ]
    }
   ],
   "source": [
    "model.summary()"
   ]
  },
  {
   "cell_type": "code",
   "execution_count": 25,
   "id": "64ba50b0-1418-4ef5-943f-1298b86dccf0",
   "metadata": {},
   "outputs": [
    {
     "name": "stdout",
     "output_type": "stream",
     "text": [
      "Epoch 1/20\n",
      "WARNING:tensorflow:From C:\\Users\\avish\\AppData\\Local\\Programs\\Python\\Python311\\Lib\\site-packages\\keras\\src\\utils\\tf_utils.py:492: The name tf.ragged.RaggedTensorValue is deprecated. Please use tf.compat.v1.ragged.RaggedTensorValue instead.\n",
      "\n",
      "30/30 [==============================] - 5s 73ms/step - loss: 0.0082 - val_loss: 315919.9375\n",
      "Epoch 2/20\n",
      "30/30 [==============================] - 2s 53ms/step - loss: 5.5960e-04 - val_loss: 315905.6875\n",
      "Epoch 3/20\n",
      "30/30 [==============================] - 2s 55ms/step - loss: 4.0118e-04 - val_loss: 315905.0938\n",
      "Epoch 4/20\n",
      "30/30 [==============================] - 2s 56ms/step - loss: 3.8533e-04 - val_loss: 315920.2500\n",
      "Epoch 5/20\n",
      "30/30 [==============================] - 2s 58ms/step - loss: 3.7760e-04 - val_loss: 315926.8125\n",
      "Epoch 6/20\n",
      "30/30 [==============================] - 2s 62ms/step - loss: 3.7118e-04 - val_loss: 315914.0938\n",
      "Epoch 7/20\n",
      "30/30 [==============================] - 2s 59ms/step - loss: 3.7152e-04 - val_loss: 315930.2812\n",
      "Epoch 8/20\n",
      "30/30 [==============================] - 2s 58ms/step - loss: 3.4708e-04 - val_loss: 315922.9375\n",
      "Epoch 9/20\n",
      "30/30 [==============================] - 2s 55ms/step - loss: 3.4376e-04 - val_loss: 315928.5000\n",
      "Epoch 10/20\n",
      "30/30 [==============================] - 2s 58ms/step - loss: 3.4867e-04 - val_loss: 315925.5312\n",
      "Epoch 11/20\n",
      "30/30 [==============================] - 2s 53ms/step - loss: 3.2550e-04 - val_loss: 315930.0000\n",
      "Epoch 12/20\n",
      "30/30 [==============================] - 2s 54ms/step - loss: 3.2594e-04 - val_loss: 315921.2812\n",
      "Epoch 13/20\n",
      "30/30 [==============================] - 2s 53ms/step - loss: 3.2502e-04 - val_loss: 315933.2500\n",
      "Epoch 14/20\n",
      "30/30 [==============================] - 2s 52ms/step - loss: 3.1056e-04 - val_loss: 315932.6875\n",
      "Epoch 15/20\n",
      "30/30 [==============================] - 2s 58ms/step - loss: 3.0462e-04 - val_loss: 315944.4062\n",
      "Epoch 16/20\n",
      "30/30 [==============================] - 2s 57ms/step - loss: 3.1992e-04 - val_loss: 315929.7188\n",
      "Epoch 17/20\n",
      "30/30 [==============================] - 2s 54ms/step - loss: 2.8817e-04 - val_loss: 315931.1250\n",
      "Epoch 18/20\n",
      "30/30 [==============================] - 2s 54ms/step - loss: 2.8066e-04 - val_loss: 315933.5312\n",
      "Epoch 19/20\n",
      "30/30 [==============================] - 2s 55ms/step - loss: 2.7401e-04 - val_loss: 315925.4375\n",
      "Epoch 20/20\n",
      "30/30 [==============================] - 2s 55ms/step - loss: 2.7334e-04 - val_loss: 315927.6562\n"
     ]
    },
    {
     "data": {
      "text/plain": [
       "<keras.src.callbacks.History at 0x19448210750>"
      ]
     },
     "execution_count": 25,
     "metadata": {},
     "output_type": "execute_result"
    }
   ],
   "source": [
    "model.fit(x_train,y_train,validation_data=(x_test,y_test),epochs=20,batch_size=64)"
   ]
  },
  {
   "cell_type": "code",
   "execution_count": 26,
   "id": "3942d8b5-5b31-4ded-beb3-4eecb2a1070e",
   "metadata": {},
   "outputs": [
    {
     "name": "stdout",
     "output_type": "stream",
     "text": [
      "16/16 [==============================] - 1s 16ms/step\n"
     ]
    }
   ],
   "source": [
    "pred = model.predict(x_test)                                            #it must be similar to y_test\n",
    "pred = scaler.inverse_transform(pred)"
   ]
  },
  {
   "cell_type": "code",
   "execution_count": 27,
   "id": "d8e0661c-ce07-4f39-920c-6c5bcf6e5f39",
   "metadata": {},
   "outputs": [
    {
     "data": {
      "text/plain": [
       "array([[374.7051 ],\n",
       "       [377.2662 ],\n",
       "       [379.65286],\n",
       "       [382.45117],\n",
       "       [385.12027],\n",
       "       [387.15924],\n",
       "       [388.45486],\n",
       "       [389.38986],\n",
       "       [390.00388],\n",
       "       [389.9053 ],\n",
       "       [388.4421 ],\n",
       "       [386.43356],\n",
       "       [384.8336 ],\n",
       "       [383.90234],\n",
       "       [383.27554],\n",
       "       [382.43484],\n",
       "       [380.52203],\n",
       "       [379.68134],\n",
       "       [378.7659 ],\n",
       "       [376.84207],\n",
       "       [374.40945],\n",
       "       [372.69492],\n",
       "       [370.78934],\n",
       "       [369.53015],\n",
       "       [368.68347],\n",
       "       [368.01602],\n",
       "       [368.32697],\n",
       "       [369.0996 ],\n",
       "       [369.3988 ],\n",
       "       [369.16364],\n",
       "       [368.17264],\n",
       "       [367.41992],\n",
       "       [367.47696],\n",
       "       [367.8788 ],\n",
       "       [367.30945],\n",
       "       [365.84332],\n",
       "       [364.09695],\n",
       "       [361.80276],\n",
       "       [358.03687],\n",
       "       [353.80325],\n",
       "       [350.6893 ],\n",
       "       [348.34143],\n",
       "       [347.11255],\n",
       "       [345.63956],\n",
       "       [341.7936 ],\n",
       "       [337.05566],\n",
       "       [328.3367 ],\n",
       "       [319.3755 ],\n",
       "       [307.46347],\n",
       "       [296.28934],\n",
       "       [285.99078],\n",
       "       [277.18805],\n",
       "       [270.03403],\n",
       "       [258.80066],\n",
       "       [249.84454],\n",
       "       [245.95024],\n",
       "       [244.27934],\n",
       "       [244.47182],\n",
       "       [245.74658],\n",
       "       [247.48143],\n",
       "       [248.53964],\n",
       "       [249.17781],\n",
       "       [249.93452],\n",
       "       [250.99332],\n",
       "       [252.2076 ],\n",
       "       [254.67068],\n",
       "       [258.19205],\n",
       "       [261.6831 ],\n",
       "       [264.80823],\n",
       "       [267.63156],\n",
       "       [269.2884 ],\n",
       "       [270.91702],\n",
       "       [272.95996],\n",
       "       [274.08444],\n",
       "       [274.63303],\n",
       "       [274.98404],\n",
       "       [276.91885],\n",
       "       [279.68222],\n",
       "       [279.65222],\n",
       "       [277.81165],\n",
       "       [276.05594],\n",
       "       [275.97433],\n",
       "       [277.04868],\n",
       "       [279.1602 ],\n",
       "       [281.77896],\n",
       "       [286.53738],\n",
       "       [291.70486],\n",
       "       [296.60046],\n",
       "       [298.8129 ],\n",
       "       [302.57486],\n",
       "       [307.16443],\n",
       "       [310.80276],\n",
       "       [312.69934],\n",
       "       [314.06482],\n",
       "       [316.30872],\n",
       "       [319.32443],\n",
       "       [321.3518 ],\n",
       "       [323.3199 ],\n",
       "       [326.3085 ],\n",
       "       [329.37485],\n",
       "       [332.06293],\n",
       "       [334.46405],\n",
       "       [336.67523],\n",
       "       [338.84534],\n",
       "       [340.7713 ],\n",
       "       [341.31973],\n",
       "       [341.9332 ],\n",
       "       [341.7581 ],\n",
       "       [341.33005],\n",
       "       [340.86655],\n",
       "       [340.74826],\n",
       "       [341.463  ],\n",
       "       [342.60617],\n",
       "       [344.61813],\n",
       "       [346.35208],\n",
       "       [346.7602 ],\n",
       "       [346.35773],\n",
       "       [345.50858],\n",
       "       [344.6854 ],\n",
       "       [343.9566 ],\n",
       "       [343.7514 ],\n",
       "       [345.57675],\n",
       "       [348.09204],\n",
       "       [348.96967],\n",
       "       [348.2669 ],\n",
       "       [347.16324],\n",
       "       [344.92053],\n",
       "       [342.02905],\n",
       "       [337.6552 ],\n",
       "       [332.41373],\n",
       "       [326.8705 ],\n",
       "       [322.08337],\n",
       "       [318.81604],\n",
       "       [316.42722],\n",
       "       [314.50162],\n",
       "       [313.34286],\n",
       "       [312.20038],\n",
       "       [311.2194 ],\n",
       "       [311.6686 ],\n",
       "       [312.38336],\n",
       "       [312.86923],\n",
       "       [313.54712],\n",
       "       [313.76993],\n",
       "       [314.19904],\n",
       "       [316.1908 ],\n",
       "       [318.31357],\n",
       "       [320.62643],\n",
       "       [323.3327 ],\n",
       "       [326.36343],\n",
       "       [329.9595 ],\n",
       "       [334.2016 ],\n",
       "       [338.29437],\n",
       "       [342.98328],\n",
       "       [347.3636 ],\n",
       "       [350.92435],\n",
       "       [353.20068],\n",
       "       [354.58768],\n",
       "       [354.60138],\n",
       "       [353.49002],\n",
       "       [352.92133],\n",
       "       [352.15808],\n",
       "       [352.58545],\n",
       "       [352.97998],\n",
       "       [352.43097],\n",
       "       [352.89383],\n",
       "       [354.56573],\n",
       "       [354.98688],\n",
       "       [354.6399 ],\n",
       "       [353.10797],\n",
       "       [350.9391 ],\n",
       "       [348.4134 ],\n",
       "       [346.12927],\n",
       "       [345.41714],\n",
       "       [345.72372],\n",
       "       [346.66818],\n",
       "       [346.90817],\n",
       "       [348.30664],\n",
       "       [348.83762],\n",
       "       [346.9258 ],\n",
       "       [343.05362],\n",
       "       [337.27142],\n",
       "       [332.78568],\n",
       "       [331.157  ],\n",
       "       [331.37546],\n",
       "       [332.66794],\n",
       "       [335.87537],\n",
       "       [339.32587],\n",
       "       [344.13986],\n",
       "       [348.78296],\n",
       "       [352.6893 ],\n",
       "       [355.41373],\n",
       "       [357.23886],\n",
       "       [357.34622],\n",
       "       [356.41034],\n",
       "       [354.2128 ],\n",
       "       [352.51468],\n",
       "       [350.91113],\n",
       "       [349.7176 ],\n",
       "       [349.68195],\n",
       "       [350.6141 ],\n",
       "       [352.70712],\n",
       "       [355.063  ],\n",
       "       [357.3789 ],\n",
       "       [358.01688],\n",
       "       [356.3346 ],\n",
       "       [355.86444],\n",
       "       [355.61865],\n",
       "       [355.11194],\n",
       "       [355.49545],\n",
       "       [357.23972],\n",
       "       [359.78195],\n",
       "       [361.91702],\n",
       "       [363.56592],\n",
       "       [365.3857 ],\n",
       "       [366.59006],\n",
       "       [367.00232],\n",
       "       [367.02206],\n",
       "       [368.5664 ],\n",
       "       [372.14362],\n",
       "       [375.11456],\n",
       "       [376.6611 ],\n",
       "       [377.19394],\n",
       "       [379.33752],\n",
       "       [382.8516 ],\n",
       "       [388.09592],\n",
       "       [393.75003],\n",
       "       [400.2983 ],\n",
       "       [407.6257 ],\n",
       "       [414.6554 ],\n",
       "       [422.04593],\n",
       "       [430.14804],\n",
       "       [437.58   ],\n",
       "       [444.14606],\n",
       "       [450.16208],\n",
       "       [455.10638],\n",
       "       [459.07443],\n",
       "       [462.77344],\n",
       "       [466.01035],\n",
       "       [468.045  ],\n",
       "       [468.52606],\n",
       "       [465.4557 ],\n",
       "       [464.29266],\n",
       "       [464.35852],\n",
       "       [465.69394],\n",
       "       [467.92233],\n",
       "       [470.47772],\n",
       "       [473.15558],\n",
       "       [475.54642],\n",
       "       [478.89587],\n",
       "       [482.23367],\n",
       "       [485.3932 ],\n",
       "       [488.06937],\n",
       "       [491.3358 ],\n",
       "       [494.89316],\n",
       "       [497.85635],\n",
       "       [500.47443],\n",
       "       [504.28067],\n",
       "       [508.50943],\n",
       "       [512.1719 ],\n",
       "       [514.45624],\n",
       "       [516.93536],\n",
       "       [520.9208 ],\n",
       "       [524.8037 ],\n",
       "       [527.6781 ],\n",
       "       [528.9171 ],\n",
       "       [528.65955],\n",
       "       [527.65845],\n",
       "       [524.9901 ],\n",
       "       [524.61206],\n",
       "       [525.9499 ],\n",
       "       [528.77734],\n",
       "       [532.8066 ],\n",
       "       [537.18427],\n",
       "       [542.4485 ],\n",
       "       [547.85693],\n",
       "       [552.689  ],\n",
       "       [557.8293 ],\n",
       "       [564.3442 ],\n",
       "       [571.90485],\n",
       "       [580.153  ],\n",
       "       [589.5017 ],\n",
       "       [599.39404],\n",
       "       [608.2862 ],\n",
       "       [617.3621 ],\n",
       "       [625.11896],\n",
       "       [631.8345 ],\n",
       "       [640.0027 ],\n",
       "       [646.5058 ],\n",
       "       [652.817  ],\n",
       "       [660.3198 ],\n",
       "       [668.5496 ],\n",
       "       [678.1399 ],\n",
       "       [687.60895],\n",
       "       [696.3815 ],\n",
       "       [704.32025],\n",
       "       [710.863  ],\n",
       "       [715.01184],\n",
       "       [716.9071 ],\n",
       "       [717.21967],\n",
       "       [714.6115 ],\n",
       "       [709.95337],\n",
       "       [704.79724],\n",
       "       [701.9571 ],\n",
       "       [701.615  ],\n",
       "       [700.64825],\n",
       "       [698.3068 ],\n",
       "       [696.33777],\n",
       "       [695.13354],\n",
       "       [693.899  ],\n",
       "       [694.9958 ],\n",
       "       [697.6712 ],\n",
       "       [707.2958 ],\n",
       "       [718.71155],\n",
       "       [731.1892 ],\n",
       "       [743.52783],\n",
       "       [749.70483],\n",
       "       [751.2628 ],\n",
       "       [751.2431 ],\n",
       "       [750.476  ],\n",
       "       [746.9563 ],\n",
       "       [742.12744],\n",
       "       [737.9432 ],\n",
       "       [733.4859 ],\n",
       "       [729.56635],\n",
       "       [727.40936],\n",
       "       [726.1722 ],\n",
       "       [725.6299 ],\n",
       "       [724.44006],\n",
       "       [725.1035 ],\n",
       "       [727.17505],\n",
       "       [727.9078 ],\n",
       "       [728.1313 ],\n",
       "       [729.8028 ],\n",
       "       [731.9517 ],\n",
       "       [734.0888 ],\n",
       "       [735.36566],\n",
       "       [734.8978 ],\n",
       "       [734.862  ],\n",
       "       [736.4159 ],\n",
       "       [738.48987],\n",
       "       [740.3276 ],\n",
       "       [742.17596],\n",
       "       [743.71484],\n",
       "       [744.81024],\n",
       "       [745.19653],\n",
       "       [744.69415],\n",
       "       [745.36414],\n",
       "       [746.1229 ],\n",
       "       [748.8391 ],\n",
       "       [753.3061 ],\n",
       "       [759.4143 ],\n",
       "       [766.6378 ],\n",
       "       [777.0534 ],\n",
       "       [788.20013],\n",
       "       [797.6513 ],\n",
       "       [805.19464],\n",
       "       [810.6385 ],\n",
       "       [809.6536 ],\n",
       "       [804.791  ],\n",
       "       [790.5658 ],\n",
       "       [764.16034],\n",
       "       [743.4581 ],\n",
       "       [730.8508 ],\n",
       "       [724.0372 ],\n",
       "       [719.24097],\n",
       "       [715.3328 ],\n",
       "       [712.2568 ],\n",
       "       [710.0221 ],\n",
       "       [707.99054],\n",
       "       [705.6971 ],\n",
       "       [703.3419 ],\n",
       "       [701.5474 ],\n",
       "       [700.12335],\n",
       "       [699.1754 ],\n",
       "       [699.0397 ],\n",
       "       [698.8085 ],\n",
       "       [699.6802 ],\n",
       "       [700.38873],\n",
       "       [700.08185],\n",
       "       [698.79865],\n",
       "       [697.1513 ],\n",
       "       [694.6158 ],\n",
       "       [690.8416 ],\n",
       "       [686.5445 ],\n",
       "       [683.4585 ],\n",
       "       [680.44214],\n",
       "       [677.9015 ],\n",
       "       [674.51917],\n",
       "       [671.07965],\n",
       "       [667.43726],\n",
       "       [664.9001 ],\n",
       "       [664.27234],\n",
       "       [665.62665],\n",
       "       [667.3784 ],\n",
       "       [669.25006],\n",
       "       [672.2113 ],\n",
       "       [674.86316],\n",
       "       [676.76697],\n",
       "       [678.53204],\n",
       "       [680.3904 ],\n",
       "       [682.17035],\n",
       "       [683.9701 ],\n",
       "       [684.7172 ],\n",
       "       [685.68115],\n",
       "       [685.45276],\n",
       "       [683.3607 ],\n",
       "       [682.1258 ],\n",
       "       [683.01324],\n",
       "       [685.0783 ],\n",
       "       [688.0836 ],\n",
       "       [691.648  ],\n",
       "       [696.5235 ],\n",
       "       [701.56494],\n",
       "       [707.01324],\n",
       "       [712.3863 ],\n",
       "       [717.1213 ],\n",
       "       [720.8046 ],\n",
       "       [723.7258 ],\n",
       "       [726.1694 ],\n",
       "       [727.8367 ],\n",
       "       [729.6256 ],\n",
       "       [732.01117],\n",
       "       [734.7926 ],\n",
       "       [737.4455 ],\n",
       "       [738.6495 ],\n",
       "       [739.0348 ],\n",
       "       [738.5953 ],\n",
       "       [738.3075 ],\n",
       "       [737.4266 ],\n",
       "       [736.6519 ],\n",
       "       [735.1879 ],\n",
       "       [733.6762 ],\n",
       "       [731.93634],\n",
       "       [729.9926 ],\n",
       "       [728.67554],\n",
       "       [727.756  ],\n",
       "       [725.8184 ],\n",
       "       [724.2971 ],\n",
       "       [723.3078 ],\n",
       "       [722.5261 ],\n",
       "       [721.90125],\n",
       "       [722.8823 ],\n",
       "       [728.24084],\n",
       "       [735.5049 ],\n",
       "       [742.2806 ],\n",
       "       [748.61536],\n",
       "       [753.22046],\n",
       "       [755.3882 ],\n",
       "       [755.3706 ],\n",
       "       [753.91956],\n",
       "       [751.4161 ],\n",
       "       [743.25555],\n",
       "       [734.4441 ],\n",
       "       [726.3808 ],\n",
       "       [719.0395 ],\n",
       "       [713.03705],\n",
       "       [708.4736 ],\n",
       "       [706.14886],\n",
       "       [705.70233],\n",
       "       [706.4356 ],\n",
       "       [707.66113],\n",
       "       [710.1355 ],\n",
       "       [713.106  ],\n",
       "       [715.979  ],\n",
       "       [717.90985],\n",
       "       [718.5735 ],\n",
       "       [717.73804],\n",
       "       [717.03674],\n",
       "       [718.6186 ],\n",
       "       [721.2741 ],\n",
       "       [721.42334],\n",
       "       [719.3169 ],\n",
       "       [714.7977 ],\n",
       "       [710.77203],\n",
       "       [709.22345],\n",
       "       [709.01434],\n",
       "       [708.73035],\n",
       "       [709.9027 ],\n",
       "       [712.8847 ],\n",
       "       [717.2558 ],\n",
       "       [722.0269 ],\n",
       "       [726.14246],\n",
       "       [729.99835],\n",
       "       [732.2086 ],\n",
       "       [733.3489 ],\n",
       "       [732.34875],\n",
       "       [728.7388 ],\n",
       "       [725.45667],\n",
       "       [722.26263],\n",
       "       [719.8964 ],\n",
       "       [717.5497 ],\n",
       "       [715.4661 ],\n",
       "       [714.0707 ],\n",
       "       [712.7233 ],\n",
       "       [711.6281 ]], dtype=float32)"
      ]
     },
     "execution_count": 27,
     "metadata": {},
     "output_type": "execute_result"
    }
   ],
   "source": [
    "pred"
   ]
  },
  {
   "cell_type": "code",
   "execution_count": 28,
   "id": "5f6c76be-ccd4-4eb6-ab1c-f761f10173cb",
   "metadata": {},
   "outputs": [
    {
     "data": {
      "text/plain": [
       "11.102610361195945"
      ]
     },
     "execution_count": 28,
     "metadata": {},
     "output_type": "execute_result"
    }
   ],
   "source": [
    "rmse = np.sqrt(np.mean(pred-y_test)**2)\n",
    "rmse"
   ]
  },
  {
   "cell_type": "code",
   "execution_count": 29,
   "id": "dad3cb94-c632-4d10-9710-0491725c0edf",
   "metadata": {},
   "outputs": [
    {
     "name": "stdout",
     "output_type": "stream",
     "text": [
      "Accuracy: 96.44 %.\n"
     ]
    }
   ],
   "source": [
    "errors = abs(pred - y_test)\n",
    "mape = 100 * (errors / y_test)\n",
    "accuracy = 100 - np.mean(mape)\n",
    "print('Accuracy:', round(accuracy, 2), '%.') "
   ]
  },
  {
   "cell_type": "code",
   "execution_count": 30,
   "id": "a88bf78f-4867-4b9a-acf7-644cef5d3dc0",
   "metadata": {},
   "outputs": [
    {
     "name": "stderr",
     "output_type": "stream",
     "text": [
      "C:\\Users\\avish\\AppData\\Local\\Temp\\ipykernel_4516\\2408688277.py:4: SettingWithCopyWarning: \n",
      "A value is trying to be set on a copy of a slice from a DataFrame.\n",
      "Try using .loc[row_indexer,col_indexer] = value instead\n",
      "\n",
      "See the caveats in the documentation: https://pandas.pydata.org/pandas-docs/stable/user_guide/indexing.html#returning-a-view-versus-a-copy\n",
      "  valid['Prediction'] = pred\n"
     ]
    },
    {
     "data": {
      "image/png": "[encoded data removed]",
      "text/plain": [
       "<Figure size 1200x600 with 1 Axes>"
      ]
     },
     "metadata": {},
     "output_type": "display_data"
    }
   ],
   "source": [
    "train = data[:train_size]\n",
    "valid = data[train_size:]\n",
    "\n",
    "valid['Prediction'] = pred\n",
    "\n",
    "plt.figure(figsize=(12,6))\n",
    "plt.title('Model')\n",
    "plt.xlabel('Date')\n",
    "plt.ylabel('Close Price')\n",
    "plt.plot(train['Close'])\n",
    "plt.plot(valid[['Close','Prediction']])\n",
    "plt.legend(['Train','Validation','Prediction'],loc='upper left')\n",
    "plt.show()"
   ]
  }
 ],
 "metadata": {
  "kernelspec": {
   "display_name": "Python 3 (ipykernel)",
   "language": "python",
   "name": "python3"
  },
  "language_info": {
   "codemirror_mode": {
    "name": "ipython",
    "version": 3
   },
   "file_extension": ".py",
   "mimetype": "text/x-python",
   "name": "python",
   "nbconvert_exporter": "python",
   "pygments_lexer": "ipython3",
   "version": "3.11.5"
  }
 },
 "nbformat": 4,
 "nbformat_minor": 5
}
